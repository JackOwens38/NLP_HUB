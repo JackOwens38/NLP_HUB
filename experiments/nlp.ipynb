{
 "cells": [
  {
   "cell_type": "markdown",
   "metadata": {},
   "source": [
    "# NLP Concepts using Python"
   ]
  },
  {
   "cell_type": "code",
   "execution_count": 13,
   "metadata": {},
   "outputs": [
    {
     "name": "stderr",
     "output_type": "stream",
     "text": [
      "[nltk_data] Downloading package punkt to\n",
      "[nltk_data]     C:\\Users\\ganad\\AppData\\Roaming\\nltk_data...\n",
      "[nltk_data]   Package punkt is already up-to-date!\n",
      "[nltk_data] Downloading package averaged_perceptron_tagger to\n",
      "[nltk_data]     C:\\Users\\ganad\\AppData\\Roaming\\nltk_data...\n",
      "[nltk_data]   Package averaged_perceptron_tagger is already up-to-\n",
      "[nltk_data]       date!\n"
     ]
    },
    {
     "data": {
      "text/plain": [
       "True"
      ]
     },
     "execution_count": 13,
     "metadata": {},
     "output_type": "execute_result"
    }
   ],
   "source": [
    "import nltk\n",
    "import spacy\n",
    "import re\n",
    "from nltk.tokenize import (word_tokenize,\n",
    "                           sent_tokenize,\n",
    "                           TreebankWordTokenizer,\n",
    "                           wordpunct_tokenize,\n",
    "                           TweetTokenizer,\n",
    "                           MWETokenizer)\n",
    "nltk.download('punkt')\n",
    "nltk.download('averaged_perceptron_tagger')"
   ]
  },
  {
   "cell_type": "code",
   "execution_count": 19,
   "metadata": {},
   "outputs": [],
   "source": [
    "# a more complex sentence to showcase tokenization\n",
    "complex_sentence = \"\"\"Dr. Emily Wong, Ph.D., exclaimed, 'OMG! Despite reaching 7.8 billion in 2021, global population metrics, like those in Section 123(i)(3)(A)(ii), remain baffling,' and then she added in a mix of French and English, 'C’est incroyable, no? Check my blog at www.emilywong-science.com or email me at wong@scienceworld.com for the full story on Mycobacterium tuberculosis complex (MTBC) research, which is, you know, the state-of-the-art stuff—I've literally termed it \"the Occam’s razor of epidemiology.\"\"\"\n",
    "sentence = \"The quick brown fox jumps over the lazy dog.\""
   ]
  },
  {
   "cell_type": "code",
   "execution_count": 17,
   "metadata": {},
   "outputs": [
    {
     "data": {
      "text/plain": [
       "['The', 'quick', 'brown', 'fox', 'jumps', 'over', 'the', 'lazy', 'dog', '.']"
      ]
     },
     "metadata": {},
     "output_type": "display_data"
    },
    {
     "data": {
      "text/plain": [
       "['The quick brown fox jumps over the lazy dog.']"
      ]
     },
     "metadata": {},
     "output_type": "display_data"
    },
    {
     "data": {
      "text/plain": [
       "['The', 'quick', 'brown', 'fox', 'jumps', 'over', 'the', 'lazy', 'dog', '.']"
      ]
     },
     "metadata": {},
     "output_type": "display_data"
    },
    {
     "data": {
      "text/plain": [
       "['The', 'quick', 'brown', 'fox', 'jumps', 'over', 'the', 'lazy', 'dog', '.']"
      ]
     },
     "metadata": {},
     "output_type": "display_data"
    },
    {
     "data": {
      "text/plain": [
       "['The', 'quick', 'brown', 'fox', 'jumps', 'over', 'the', 'lazy', 'dog', '.']"
      ]
     },
     "metadata": {},
     "output_type": "display_data"
    },
    {
     "data": {
      "text/plain": [
       "['The', 'quick', 'brown', 'fox', 'jumps', 'over', 'the', 'lazy', 'dog.']"
      ]
     },
     "metadata": {},
     "output_type": "display_data"
    }
   ],
   "source": [
    "tokens_word = nltk.word_tokenize(sentence)\n",
    "token_sent = nltk.sent_tokenize(sentence)\n",
    "token_treebank = TreebankWordTokenizer().tokenize(sentence)\n",
    "token_wordpunct = wordpunct_tokenize(sentence)\n",
    "token_tweet = TweetTokenizer().tokenize(sentence)\n",
    "token_mwe = MWETokenizer().tokenize(sentence.split())\n",
    "\n",
    "\n",
    "display(tokens_word,\n",
    "        token_sent,\n",
    "        token_treebank,\n",
    "        token_wordpunct,\n",
    "        token_tweet,\n",
    "        token_mwe)"
   ]
  },
  {
   "cell_type": "code",
   "execution_count": 22,
   "metadata": {},
   "outputs": [
    {
     "name": "stdout",
     "output_type": "stream",
     "text": [
      "['Dr.', 'Emily', 'Wong', ',', 'Ph.D.', ',', 'exclaimed', ',', \"'OMG\", '!', 'Despite', 'reaching', '7.8', 'billion', 'in', '2021', ',', 'global', 'population', 'metrics', ',', 'like', 'those', 'in', 'Section', '123', '(', 'i', ')', '(', '3', ')', '(', 'A', ')', '(', 'ii', ')', ',', 'remain', 'baffling', ',', \"'\", 'and', 'then', 'she', 'added', 'in', 'a', 'mix', 'of', 'French', 'and', 'English', ',', \"'\", 'C', '’', 'est', 'incroyable', ',', 'no', '?', 'Check', 'my', 'blog', 'at', 'www.emilywong-science.com', 'or', 'email', 'me', 'at', 'wong', '@', 'scienceworld.com', 'for', 'the', 'full', 'story', 'on', 'Mycobacterium', 'tuberculosis', 'complex', '(', 'MTBC', ')', 'research', ',', 'which', 'is', ',', 'you', 'know', ',', 'the', 'state-of-the-art', 'stuff—I', \"'ve\", 'literally', 'termed', 'it', '``', 'the', 'Occam', '’', 's', 'razor', 'of', 'epidemiology', '.']\n",
      "\n",
      "[\"Dr. Emily Wong, Ph.D., exclaimed, 'OMG!\", \"Despite reaching 7.8 billion in 2021, global population metrics, like those in Section 123(i)(3)(A)(ii), remain baffling,' and then she added in a mix of French and English, 'C’est incroyable, no?\", 'Check my blog at www.emilywong-science.com or email me at wong@scienceworld.com for the full story on Mycobacterium tuberculosis complex (MTBC) research, which is, you know, the state-of-the-art stuff—I\\'ve literally termed it \"the Occam’s razor of epidemiology.']\n",
      "\n",
      "['Dr.', 'Emily', 'Wong', ',', 'Ph.D.', ',', 'exclaimed', ',', \"'OMG\", '!', 'Despite', 'reaching', '7.8', 'billion', 'in', '2021', ',', 'global', 'population', 'metrics', ',', 'like', 'those', 'in', 'Section', '123', '(', 'i', ')', '(', '3', ')', '(', 'A', ')', '(', 'ii', ')', ',', 'remain', 'baffling', ',', \"'\", 'and', 'then', 'she', 'added', 'in', 'a', 'mix', 'of', 'French', 'and', 'English', ',', \"'C’est\", 'incroyable', ',', 'no', '?', 'Check', 'my', 'blog', 'at', 'www.emilywong-science.com', 'or', 'email', 'me', 'at', 'wong', '@', 'scienceworld.com', 'for', 'the', 'full', 'story', 'on', 'Mycobacterium', 'tuberculosis', 'complex', '(', 'MTBC', ')', 'research', ',', 'which', 'is', ',', 'you', 'know', ',', 'the', 'state-of-the-art', 'stuff—I', \"'ve\", 'literally', 'termed', 'it', '``', 'the', 'Occam’s', 'razor', 'of', 'epidemiology', '.']\n",
      "\n",
      "['Dr', '.', 'Emily', 'Wong', ',', 'Ph', '.', 'D', '.,', 'exclaimed', ',', \"'\", 'OMG', '!', 'Despite', 'reaching', '7', '.', '8', 'billion', 'in', '2021', ',', 'global', 'population', 'metrics', ',', 'like', 'those', 'in', 'Section', '123', '(', 'i', ')(', '3', ')(', 'A', ')(', 'ii', '),', 'remain', 'baffling', \",'\", 'and', 'then', 'she', 'added', 'in', 'a', 'mix', 'of', 'French', 'and', 'English', ',', \"'\", 'C', '’', 'est', 'incroyable', ',', 'no', '?', 'Check', 'my', 'blog', 'at', 'www', '.', 'emilywong', '-', 'science', '.', 'com', 'or', 'email', 'me', 'at', 'wong', '@', 'scienceworld', '.', 'com', 'for', 'the', 'full', 'story', 'on', 'Mycobacterium', 'tuberculosis', 'complex', '(', 'MTBC', ')', 'research', ',', 'which', 'is', ',', 'you', 'know', ',', 'the', 'state', '-', 'of', '-', 'the', '-', 'art', 'stuff', '—', 'I', \"'\", 've', 'literally', 'termed', 'it', '\"', 'the', 'Occam', '’', 's', 'razor', 'of', 'epidemiology', '.']\n",
      "\n",
      "['Dr', '.', 'Emily', 'Wong', ',', 'Ph', '.', 'D', '.', ',', 'exclaimed', ',', \"'\", 'OMG', '!', 'Despite', 'reaching', '7.8', 'billion', 'in', '2021', ',', 'global', 'population', 'metrics', ',', 'like', 'those', 'in', 'Section', '123', '(', 'i', ')', '(', '3', ')', '(', 'A', ')', '(', 'ii', ')', ',', 'remain', 'baffling', ',', \"'\", 'and', 'then', 'she', 'added', 'in', 'a', 'mix', 'of', 'French', 'and', 'English', ',', \"'\", 'C', '’', 'est', 'incroyable', ',', 'no', '?', 'Check', 'my', 'blog', 'at', 'www.emilywong-science.com', 'or', 'email', 'me', 'at', 'wong@scienceworld.com', 'for', 'the', 'full', 'story', 'on', 'Mycobacterium', 'tuberculosis', 'complex', '(', 'MTBC', ')', 'research', ',', 'which', 'is', ',', 'you', 'know', ',', 'the', 'state-of-the-art', 'stuff', '—', \"I've\", 'literally', 'termed', 'it', '\"', 'the', 'Occam', '’', 's', 'razor', 'of', 'epidemiology', '.']\n",
      "\n",
      "['Dr.', 'Emily', 'Wong,', 'Ph.D.,', 'exclaimed,', \"'OMG!\", 'Despite', 'reaching', '7.8', 'billion', 'in', '2021,', 'global', 'population', 'metrics,', 'like', 'those', 'in', 'Section', '123(i)(3)(A)(ii),', 'remain', \"baffling,'\", 'and', 'then', 'she', 'added', 'in', 'a', 'mix', 'of', 'French', 'and', 'English,', \"'C’est\", 'incroyable,', 'no?', 'Check', 'my', 'blog', 'at', 'www.emilywong-science.com', 'or', 'email', 'me', 'at', 'wong@scienceworld.com', 'for', 'the', 'full', 'story', 'on', 'Mycobacterium', 'tuberculosis', 'complex', '(MTBC)', 'research,', 'which', 'is,', 'you', 'know,', 'the', 'state-of-the-art', \"stuff—I've\", 'literally', 'termed', 'it', '\"the', 'Occam’s', 'razor', 'of', 'epidemiology.']\n"
     ]
    }
   ],
   "source": [
    "tokens_word_c = nltk.word_tokenize(complex_sentence)\n",
    "token_sent_c = nltk.sent_tokenize(complex_sentence)\n",
    "token_treebank_c = TreebankWordTokenizer().tokenize(complex_sentence)\n",
    "token_wordpunct_c = wordpunct_tokenize(complex_sentence)\n",
    "token_tweet_c = TweetTokenizer().tokenize(complex_sentence)\n",
    "token_mwe_c = MWETokenizer().tokenize(complex_sentence.split())\n",
    "\n",
    "print(tokens_word_c)\n",
    "print()\n",
    "print(token_sent_c)\n",
    "print()\n",
    "print(token_treebank_c)\n",
    "print()\n",
    "print(token_wordpunct_c)\n",
    "print()\n",
    "print(token_tweet_c)\n",
    "print()\n",
    "print(token_mwe_c)"
   ]
  },
  {
   "cell_type": "markdown",
   "metadata": {},
   "source": [
    "### Observation\n",
    "\n",
    "- Picking the right tokenizer depends on the task at hand. For example, if you are working on a sentiment analysis task, you might want to use a tokenizer that preserves emoticons and hashtags. If you are working on a machine translation task, you might want to use a tokenizer that preserves punctuation and capitalization."
   ]
  },
  {
   "cell_type": "markdown",
   "metadata": {},
   "source": [
    "# Penn Treebank Tagset Overview\n",
    "\n",
    "A tagset is a list of part-of-speech tags, i.e., labels used to indicate the part of speech and often also other grammatical categories (case, tense etc.) of each token in a text corpus.\n",
    "\n",
    "## Introduction to Penn Treebank Tagset\n",
    "\n",
    "The English Penn Treebank tagset is utilized with English corpora annotated by the TreeTagger tool, developed by Helmut Schmid in the TC project at the Institute for Computational Linguistics of the University of Stuttgart. This version of the tagset contains modifications developed by Sketch Engine (earlier version).\n",
    "\n",
    "[See a more recent version of this tagset](https://www.sketchengine.eu/penn-treebank-tagset/).\n",
    "\n",
    "## What is a POS Tag?\n",
    "\n",
    "POS tags classify words into grammatical categories which can help in understanding the structure and context of text. The table below shows the English Penn TreeBank tagset with Sketch Engine modifications (earlier version).\n",
    "\n",
    "Example: Using `[tag=\"NNS\"]` finds all nouns in the plural, e.g., people, years when used in the CQL concordance search (always use straight double quotation marks in CQL).\n",
    "\n",
    "| POS Tag | Description                                   | Example             |\n",
    "|---------|-----------------------------------------------|---------------------|\n",
    "| CC      | Coordinating conjunction                      | and                 |\n",
    "| CD      | Cardinal number                               | 1, third            |\n",
    "| DT      | Determiner                                    | the                 |\n",
    "| EX      | Existential there                             | there is            |\n",
    "| FW      | Foreign word                                  | les                 |\n",
    "| IN      | Preposition, subordinating conjunction        | in, of, like        |\n",
    "| IN/that | That as subordinator                          | that                |\n",
    "| JJ      | Adjective                                     | green               |\n",
    "| JJR     | Adjective, comparative                        | greener             |\n",
    "| JJS     | Adjective, superlative                        | greenest            |\n",
    "| LS      | List marker                                   | 1)                  |\n",
    "| MD      | Modal                                         | could, will         |\n",
    "| NN      | Noun, singular or mass                        | table               |\n",
    "| NNS     | Noun, plural                                  | tables              |\n",
    "| NP      | Proper noun, singular                         | John                |\n",
    "| NPS     | Proper noun, plural                           | Vikings             |\n",
    "| PDT     | Predeterminer                                 | both the boys       |\n",
    "| POS     | Possessive ending                             | friend’s            |\n",
    "| PP      | Personal pronoun                              | I, he, it           |\n",
    "| PPZ     | Possessive pronoun                            | my, his             |\n",
    "| RB      | Adverb                                        | however, usually    |\n",
    "| RBR     | Adverb, comparative                           | better              |\n",
    "| RBS     | Adverb, superlative                           | best                |\n",
    "| RP      | Particle                                      | give up             |\n",
    "| SENT    | Sentence-break punctuation                    | . ! ?               |\n",
    "| SYM     | Symbol                                        | / [ = *             |\n",
    "| TO      | Infinitive ‘to’                               | to go               |\n",
    "| UH      | Interjection                                  | uhhuhhuhh           |\n",
    "| VB      | Verb, base form                               | be                  |\n",
    "| VBD     | Verb, past tense                              | was, were           |\n",
    "| VBG     | Verb, gerund/present participle               | being               |\n",
    "| VBN     | Verb, past participle                         | been                |\n",
    "| VBP     | Verb, sing. present, non-3d                   | am, are             |\n",
    "| VBZ     | Verb, 3rd person sing. present                | is                  |\n",
    "| VH      | Verb have, base form                          | have                |\n",
    "| VHD     | Verb have, past tense                         | had                 |\n",
    "| VHG     | Verb have, gerund/present participle          | having              |\n",
    "| VHN     | Verb have, past participle                    | had                 |\n",
    "| VHP     | Verb have, sing. present, non-3d              | have                |\n",
    "| VHZ     | Verb have, 3rd person sing. present           | has                 |\n",
    "| VV      | Verb, base form                               | take                |\n",
    "| VVD     | Verb, past tense                              | took                |\n",
    "| VVG     | Verb, gerund/present participle               | taking              |\n",
    "| VVN     | Verb, past participle                         | taken               |\n",
    "| VVP     | Verb, sing. present, non-3d                   | take                |\n",
    "| VVZ     | Verb, 3rd person sing. present                | takes               |\n",
    "| WDT     | Wh-determiner                                 | which               |\n",
    "| WP      | Wh-pronoun                                    | who, what           |\n",
    "| WP$     | Possessive wh-pronoun                         | whose               |\n",
    "| WRB     | Wh-abverb                                     | where, when         |\n",
    "\n",
    "## Main Differences to the Default Penn Tagset\n",
    "- In TreeTagger:\n",
    "  - Distinguishes 'be' (VB) and 'have' (VH) from other (non-modal) verbs (VV).\n",
    "  - For proper nouns, NNP and NNPS have become NP and NPS.\n",
    "  - SENT for end-of-sentence punctuation (other punctuation tags may also differ).\n",
    "- In TreeTagger tool + Sketch Engine modifications:\n",
    "  - The word 'to' is tagged IN when used as a preposition and TO when used as an infinitive marker.\n",
    "\n",
    "## Bibliography\n",
    "\n",
    "M. Marcus, B. Santorini and M.A. Marcinkiewicz (1993). Building a large annotated corpus of English: The Penn Treebank. In Computational Linguistics, volume 19, number 2, pp. 313–330."
   ]
  },
  {
   "cell_type": "code",
   "execution_count": 12,
   "metadata": {},
   "outputs": [
    {
     "data": {
      "text/plain": [
       "[('The', 'DT'),\n",
       " ('quick', 'JJ'),\n",
       " ('brown', 'NN'),\n",
       " ('fox', 'NN'),\n",
       " ('jumps', 'VBZ'),\n",
       " ('over', 'IN'),\n",
       " ('the', 'DT'),\n",
       " ('lazy', 'JJ'),\n",
       " ('dog', 'NN'),\n",
       " ('.', '.')]"
      ]
     },
     "execution_count": 12,
     "metadata": {},
     "output_type": "execute_result"
    }
   ],
   "source": [
    "tagged = nltk.pos_tag(tokens)\n",
    "\n",
    "tagged[0:14]"
   ]
  },
  {
   "cell_type": "markdown",
   "metadata": {},
   "source": [
    "# References:\n",
    "- Bird, Steven, Edward Loper and Ewan Klein (2009).\n",
    "Natural Language Processing with Python.  O'Reilly Media Inc.\n",
    "- https://neptune.ai/blog/tokenization-in-nlp\n",
    "- https://www.sketchengine.eu/penn-treebank-tagset/"
   ]
  }
 ],
 "metadata": {
  "kernelspec": {
   "display_name": "nlpenv",
   "language": "python",
   "name": "python3"
  },
  "language_info": {
   "codemirror_mode": {
    "name": "ipython",
    "version": 3
   },
   "file_extension": ".py",
   "mimetype": "text/x-python",
   "name": "python",
   "nbconvert_exporter": "python",
   "pygments_lexer": "ipython3",
   "version": "3.10.14"
  }
 },
 "nbformat": 4,
 "nbformat_minor": 2
}
